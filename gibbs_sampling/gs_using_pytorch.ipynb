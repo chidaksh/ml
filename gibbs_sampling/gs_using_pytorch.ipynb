{
 "cells": [
  {
   "cell_type": "code",
   "execution_count": 1,
   "metadata": {},
   "outputs": [],
   "source": [
    "import numpy as np\n",
    "import torch\n",
    "from scipy.io import loadmat\n",
    "import math\n",
    "import matplotlib.pyplot as plt"
   ]
  },
  {
   "cell_type": "markdown",
   "metadata": {},
   "source": [
    "#### Loading matrices"
   ]
  },
  {
   "cell_type": "code",
   "execution_count": 2,
   "metadata": {},
   "outputs": [],
   "source": [
    "mat1 = loadmat('ForceVec_1225.mat')\n",
    "mat2 = loadmat('Stiffness_1225.mat')"
   ]
  },
  {
   "cell_type": "code",
   "execution_count": 3,
   "metadata": {},
   "outputs": [],
   "source": [
    "ForceVec = torch.from_numpy(mat1['B']).float()\n",
    "stiffness = torch.from_numpy(mat2['K']).float()"
   ]
  },
  {
   "cell_type": "code",
   "execution_count": 4,
   "metadata": {},
   "outputs": [],
   "source": [
    "dim = int(mat1['B'].shape[0])"
   ]
  },
  {
   "cell_type": "markdown",
   "metadata": {},
   "source": [
    "#### Seed"
   ]
  },
  {
   "cell_type": "code",
   "execution_count": 5,
   "metadata": {},
   "outputs": [],
   "source": [
    "def seed_lib():\n",
    "    # RANDOM_SEED = 50\n",
    "    # np.random.seed(RANDOM_SEED)\n",
    "    # torch.manual_seed(RANDOM_SEED)\n",
    "    return "
   ]
  },
  {
   "cell_type": "markdown",
   "metadata": {},
   "source": [
    "#### inverse_matrix"
   ]
  },
  {
   "cell_type": "code",
   "execution_count": 6,
   "metadata": {},
   "outputs": [
    {
     "name": "stdout",
     "output_type": "stream",
     "text": [
      "CPU times: user 844 ms, sys: 288 ms, total: 1.13 s\n",
      "Wall time: 1.47 s\n"
     ]
    }
   ],
   "source": [
    "%%time\n",
    "inverse_matrix = torch.linalg.inv(stiffness) @ ForceVec"
   ]
  },
  {
   "cell_type": "markdown",
   "metadata": {},
   "source": [
    "#### steepest descent"
   ]
  },
  {
   "cell_type": "code",
   "execution_count": 7,
   "metadata": {},
   "outputs": [],
   "source": [
    "def steepest_descent(A,b,x,for_plot = False):\n",
    "\n",
    "    if (A != torch.t(A)).any():\n",
    "        raise ValueError('Matrix A needs to be symmetric positive definite (SPD)')\n",
    "    \n",
    "    residual = b - A @ x\n",
    "    num_iter = 0\n",
    "    residual_norm_init = (residual.T @ residual)\n",
    "    residual_norm_curr = residual_norm_init\n",
    "    epsilon = 1e-10\n",
    "    while (residual_norm_curr > (epsilon)*residual_norm_init):\n",
    "\n",
    "        temp = A @ residual\n",
    "        alpha = residual_norm_curr/(residual.T @ temp)\n",
    "        x = x + (alpha * residual)\n",
    "\n",
    "        if num_iter%10 == 0:\n",
    "            residual = b - A @ x\n",
    "\n",
    "        else:\n",
    "            residual = residual - (alpha * temp)\n",
    "\n",
    "        residual_norm_curr = (residual.T @ residual)\n",
    "        num_iter += 1\n",
    "\n",
    "    return x,num_iter"
   ]
  },
  {
   "cell_type": "code",
   "execution_count": 8,
   "metadata": {},
   "outputs": [
    {
     "name": "stdout",
     "output_type": "stream",
     "text": [
      "CPU times: user 16.2 s, sys: 180 ms, total: 16.3 s\n",
      "Wall time: 9.38 s\n"
     ]
    }
   ],
   "source": [
    "%%time\n",
    "seed_lib()\n",
    "starting_x = torch.rand(dim,1)\n",
    "x_steepest,iter_steepest = steepest_descent(stiffness,ForceVec,starting_x)"
   ]
  },
  {
   "cell_type": "code",
   "execution_count": 9,
   "metadata": {},
   "outputs": [
    {
     "data": {
      "text/plain": [
       "7444"
      ]
     },
     "execution_count": 9,
     "metadata": {},
     "output_type": "execute_result"
    }
   ],
   "source": [
    "iter_steepest"
   ]
  },
  {
   "cell_type": "code",
   "execution_count": 10,
   "metadata": {},
   "outputs": [
    {
     "data": {
      "text/plain": [
       "tensor(7.1112)"
      ]
     },
     "execution_count": 10,
     "metadata": {},
     "output_type": "execute_result"
    }
   ],
   "source": [
    "torch.dist(x_steepest,inverse_matrix,2)"
   ]
  },
  {
   "cell_type": "markdown",
   "metadata": {},
   "source": [
    "#### complexity_of_SD"
   ]
  },
  {
   "cell_type": "code",
   "execution_count": 11,
   "metadata": {},
   "outputs": [
    {
     "name": "stderr",
     "output_type": "stream",
     "text": [
      "/home/lohith/chida/environments/basic/lib/python3.7/site-packages/torch/_lobpcg.py:946: UserWarning: torch.triangular_solve is deprecated in favor of torch.linalg.solve_triangularand will be removed in a future PyTorch release.\n",
      "torch.linalg.solve_triangular has its arguments reversed and does not return a copy of one of the inputs.\n",
      "X = torch.triangular_solve(B, A).solution\n",
      "should be replaced with\n",
      "X = torch.linalg.solve_triangular(A, B). (Triggered internally at  ../aten/src/ATen/native/BatchLinearAlgebra.cpp:1672.)\n",
      "  Rinv = torch.triangular_solve(Id, R, upper=True).solution\n"
     ]
    },
    {
     "name": "stdout",
     "output_type": "stream",
     "text": [
      "9.979907989501953 0.00477374903857708\n",
      "2090\n"
     ]
    }
   ],
   "source": [
    "lambda_max = float(torch.lobpcg(stiffness,k = 1,largest = True)[0])\n",
    "lambda_min = float(torch.lobpcg(stiffness,k = 1,largest = False)[0])\n",
    "print(lambda_max,lambda_min)\n",
    "condition_number = int(abs(lambda_max/lambda_min))\n",
    "print(condition_number)"
   ]
  },
  {
   "cell_type": "code",
   "execution_count": 12,
   "metadata": {},
   "outputs": [
    {
     "name": "stdout",
     "output_type": "stream",
     "text": [
      "0.9997313633310947\n",
      "24062\n"
     ]
    }
   ],
   "source": [
    "omega_max = (iter_steepest-1)/(iter_steepest+1)\n",
    "print(omega_max)\n",
    "epsilon = 1e-10\n",
    "steepest_max_iter = math.log(1/(epsilon))/math.log((condition_number+1)/(condition_number-1))\n",
    "print(int(steepest_max_iter))"
   ]
  },
  {
   "cell_type": "markdown",
   "metadata": {},
   "source": [
    "$ O(max(sparsity,n)*steepest\\_max\\_iter) = O(n*steepest\\_max\\_iter) $\n",
    "\n",
    "$ steepest\\_max\\_iter = \\frac{ln(1/ϵ)}{ln\\big(\\frac{κ+1}{κ-1}\\big)} $\n",
    "\n",
    "$ κ = \\frac{λ_{max}}{λ_{min}} $"
   ]
  },
  {
   "cell_type": "markdown",
   "metadata": {},
   "source": [
    "#### Conjugate_gradient"
   ]
  },
  {
   "cell_type": "code",
   "execution_count": 13,
   "metadata": {},
   "outputs": [],
   "source": [
    "def conjugate_gradient(A,b,x,n):\n",
    "\n",
    "    if (A != torch.t(A)).any():\n",
    "        raise ValueError('Matrix A needs to be symmetric positive definite (SPD)')\n",
    "\n",
    "    r = b - A @ x\n",
    "    d = r\n",
    "    num_iter = 0\n",
    "    residual_norm_init = (r.T @ r)\n",
    "    residual_norm_curr = residual_norm_init\n",
    "    epsilon = 1e-10\n",
    "\n",
    "    while (residual_norm_curr > (epsilon)*residual_norm_init and num_iter < n):\n",
    "\n",
    "        p = A @ d\n",
    "        alpha = residual_norm_curr/(d.T @ p)\n",
    "        x = x + alpha * d\n",
    "        if num_iter%10 == 0:\n",
    "            r = b - A @ x\n",
    "        else:\n",
    "            r = r - alpha * p\n",
    "        temp = residual_norm_curr\n",
    "        residual_norm_curr = r.T @ r\n",
    "        beta = residual_norm_curr/temp\n",
    "        d = r + beta * d\n",
    "        num_iter = num_iter + 1\n",
    "\n",
    "    return x,num_iter"
   ]
  },
  {
   "cell_type": "code",
   "execution_count": 14,
   "metadata": {},
   "outputs": [
    {
     "name": "stdout",
     "output_type": "stream",
     "text": [
      "CPU times: user 428 ms, sys: 16 ms, total: 444 ms\n",
      "Wall time: 339 ms\n"
     ]
    }
   ],
   "source": [
    "%%time\n",
    "seed_lib()\n",
    "x_conjugate,iter_conjugate = conjugate_gradient(stiffness,ForceVec,starting_x,dim)"
   ]
  },
  {
   "cell_type": "code",
   "execution_count": 15,
   "metadata": {},
   "outputs": [
    {
     "data": {
      "text/plain": [
       "133"
      ]
     },
     "execution_count": 15,
     "metadata": {},
     "output_type": "execute_result"
    }
   ],
   "source": [
    "iter_conjugate"
   ]
  },
  {
   "cell_type": "code",
   "execution_count": 16,
   "metadata": {},
   "outputs": [
    {
     "data": {
      "text/plain": [
       "tensor(0.1630)"
      ]
     },
     "execution_count": 16,
     "metadata": {},
     "output_type": "execute_result"
    }
   ],
   "source": [
    "torch.dist(x_conjugate,inverse_matrix,2)"
   ]
  },
  {
   "cell_type": "markdown",
   "metadata": {},
   "source": [
    "#### Complexity_of_CG"
   ]
  },
  {
   "cell_type": "code",
   "execution_count": 17,
   "metadata": {},
   "outputs": [
    {
     "name": "stdout",
     "output_type": "stream",
     "text": [
      "542\n",
      "0.9571885899448063\n"
     ]
    }
   ],
   "source": [
    "epsilon = 1e-10\n",
    "temp = math.sqrt(condition_number)\n",
    "conjugate_max_iter = int(math.log(2/(epsilon))/math.log((temp+1)/(temp-1)))\n",
    "print(conjugate_max_iter)\n",
    "omega = ((temp-1)/(temp+1))\n",
    "print(omega)"
   ]
  },
  {
   "cell_type": "markdown",
   "metadata": {},
   "source": [
    "$O(max(sparsity,n)*conjugate\\_max\\_iter) = O(n*conjugate\\_max\\_iter)$\n",
    "\n",
    "$conjugate\\_max\\_iter = min\\Big(\\frac{ln(2/ϵ)}{ln\\big(\\frac{\\sqrt{k}+1}{\\sqrt{k} -1}\\big)},n \\Big)$\n",
    "\n",
    "$κ = \\frac{λ_{max}}{λ_{min}}$"
   ]
  },
  {
   "cell_type": "markdown",
   "metadata": {},
   "source": [
    "#### Comparision_between_SD_CG"
   ]
  },
  {
   "cell_type": "code",
   "execution_count": 18,
   "metadata": {},
   "outputs": [],
   "source": [
    "def comp_steepest_descent(A,b,x,epsilon = 1e-10):\n",
    "\n",
    "    if (A != torch.t(A)).any():\n",
    "        raise ValueError('Matrix A needs to be symmetric positive definite (SPD)')\n",
    "\n",
    "    residual = b - A @ x\n",
    "    num_iter = 0\n",
    "    acc_sd = {}\n",
    "    residual_norm_init = (residual.T @ residual)\n",
    "    residual_norm_curr = residual_norm_init\n",
    "    epsilon = 1e-10\n",
    "    while (residual_norm_curr > (epsilon)*residual_norm_init):\n",
    "\n",
    "        temp = A @ residual\n",
    "        alpha = residual_norm_curr/(residual.T @ temp)\n",
    "        x = x + (alpha * residual)\n",
    "\n",
    "        if num_iter%10 == 0:\n",
    "            residual = b - A @ x\n",
    "            acc_sd[num_iter] = torch.dist(x,inverse_matrix,2)\n",
    "\n",
    "        else:\n",
    "            residual = residual - (alpha * temp)\n",
    "\n",
    "        residual_norm_curr = (residual.T @ residual)\n",
    "        num_iter += 1\n",
    "\n",
    "    return x,num_iter,acc_sd\n",
    "\n",
    "def comp_conjugate_gradient(A,b,x,n,epsilon = 1e-10):\n",
    "\n",
    "    if (A != torch.t(A)).any():\n",
    "        raise ValueError('Matrix A needs to be symmetric positive definite (SPD)')\n",
    "\n",
    "    r = b- A @ x\n",
    "    d = r\n",
    "    num_iter = 0\n",
    "    residual_norm_init = (r.T @ r)\n",
    "    residual_norm_curr = residual_norm_init\n",
    "    acc_cg = {}\n",
    "    while (residual_norm_curr > (epsilon)*residual_norm_init and num_iter < n):\n",
    "        p = A @ d\n",
    "        alpha = residual_norm_curr/(d.T @ p)\n",
    "        x = x + alpha * d\n",
    "        if num_iter%10 == 0:\n",
    "            r = b - A @ x\n",
    "            acc_cg[num_iter] = torch.dist(x,inverse_matrix,2)\n",
    "        else:\n",
    "            r = r - alpha * p\n",
    "        temp = residual_norm_curr\n",
    "        residual_norm_curr = r.T @ r\n",
    "        beta = residual_norm_curr/temp\n",
    "        d = r + beta * d\n",
    "        num_iter = num_iter + 1\n",
    "\n",
    "    return x,num_iter,acc_cg\n"
   ]
  },
  {
   "cell_type": "code",
   "execution_count": 19,
   "metadata": {},
   "outputs": [],
   "source": [
    "x_sd,iter_sd,acc_sd = comp_steepest_descent(stiffness,ForceVec,starting_x)\n",
    "x_cg,iter_cg,acc_cg = comp_conjugate_gradient(stiffness,ForceVec,starting_x,dim)"
   ]
  },
  {
   "cell_type": "code",
   "execution_count": 20,
   "metadata": {},
   "outputs": [],
   "source": [
    "final_steepest_norm = torch.dist(x_sd,inverse_matrix,2)\n",
    "final_conjugate_norm = torch.dist(x_cg,inverse_matrix,2)"
   ]
  },
  {
   "cell_type": "code",
   "execution_count": 21,
   "metadata": {},
   "outputs": [
    {
     "name": "stdout",
     "output_type": "stream",
     "text": [
      "Norm difference of final solution obtained by steepest_descent after 7444 iterations is 7.111213207244873\n",
      "Norm difference of final solution obtained by conjugate_gradient after 133 iterations is 0.1629703789949417\n"
     ]
    }
   ],
   "source": [
    "print(f'Norm difference of final solution obtained by steepest_descent after {iter_sd} iterations is {final_steepest_norm}')\n",
    "print(f'Norm difference of final solution obtained by conjugate_gradient after {iter_cg} iterations is {final_conjugate_norm}')"
   ]
  },
  {
   "cell_type": "code",
   "execution_count": 22,
   "metadata": {},
   "outputs": [
    {
     "data": {
      "image/png": "[encoded data removed]",
      "text/plain": [
       "<Figure size 432x288 with 3 Axes>"
      ]
     },
     "metadata": {
      "needs_background": "light"
     },
     "output_type": "display_data"
    }
   ],
   "source": [
    "figure, axis = plt.subplots(1,3)\n",
    "x_sd,y_sd = zip(*sorted(acc_sd.items()))\n",
    "axis[0].plot(x_sd,y_sd)\n",
    "axis[0].set_title(\"steepest_descent\")\n",
    "x_cg,y_cg = zip(*sorted(acc_cg.items()))\n",
    "axis[1].plot(x_cg,y_cg)\n",
    "axis[1].set_title('conjugate_gradient')\n",
    "axis[2].plot(x_cg,y_sd[:len(x_cg)])\n",
    "axis[2].plot(x_cg,y_cg)\n",
    "axis[2].legend(['steepest_descent','conjugate_gradient'],loc = \"upper right\")\n",
    "axis[2].set_title(\"steepest descent and conjugate gradient\")\n",
    "figure.subplots_adjust(hspace = 10,wspace = 0.2)\n",
    "plt.subplots_adjust(top = 1.2,right = 2.3)\n",
    "plt.setp(axis,xlabel = 'number of iterations')\n",
    "plt.setp(axis,ylabel = 'norm difference')\n",
    "plt.show()\n"
   ]
  },
  {
   "cell_type": "markdown",
   "metadata": {},
   "source": [
    "#### Gibbs Sampling"
   ]
  },
  {
   "cell_type": "code",
   "execution_count": 23,
   "metadata": {},
   "outputs": [],
   "source": [
    "def normal(mean,var):\n",
    "    seed_lib()\n",
    "    return mean +  math.sqrt(var) * float(torch.randn(1))"
   ]
  },
  {
   "cell_type": "code",
   "execution_count": 24,
   "metadata": {},
   "outputs": [],
   "source": [
    "sigma = torch.linalg.inv(stiffness)"
   ]
  },
  {
   "cell_type": "code",
   "execution_count": 25,
   "metadata": {},
   "outputs": [
    {
     "data": {
      "text/plain": [
       "tensor(0.0040)"
      ]
     },
     "execution_count": 25,
     "metadata": {},
     "output_type": "execute_result"
    }
   ],
   "source": [
    "torch.count_nonzero(stiffness)/(1225 * 1225)"
   ]
  },
  {
   "cell_type": "code",
   "execution_count": 26,
   "metadata": {},
   "outputs": [],
   "source": [
    "def gibbs_sampler(N,num_iter,start = torch.zeros(dim)):\n",
    "    iter = num_iter\n",
    "    x = torch.zeros((iter*N,N))\n",
    "    for j in range(iter):\n",
    "        for i in range(N):\n",
    "            temp = torch.cat((start[:i],start[i+1:]))\n",
    "            var = 1/stiffness[i][i]\n",
    "            intermediate = (torch.cat((stiffness[i][:i],stiffness[i][i+1:]))/(-stiffness[i][i]))\n",
    "            mean = intermediate @ temp.T\n",
    "            start[i] = normal(mean,var)\n",
    "            x[j*N+i] = start\n",
    "    return x\n",
    "\n",
    "def sigma_convergence(N,x,sigma,samples,num_iter,start = torch.zeros(dim)):\n",
    "    sum = torch.zeros((N,N))\n",
    "    burn_in = num_iter//2\n",
    "    count = 0\n",
    "    visited = 0\n",
    "    if samples == 0:\n",
    "        sum = sum + torch.outer(start,start.T)\n",
    "        return torch.linalg.norm(sum-sigma)\n",
    "\n",
    "    for j in range(burn_in,num_iter):\n",
    "        for i in range(N):\n",
    "            sum = sum  + torch.outer(x[j*N+i],x[j*N+i].T)/(samples)\n",
    "            count += 1\n",
    "            if count == samples:\n",
    "                visited = 1\n",
    "                break\n",
    "        if visited == 1:\n",
    "            break\n",
    "    dist = torch.linalg.norm(sum-sigma)\n",
    "    return dist\n",
    "\n",
    "def conj_sigma_convergence(N,x,A,sigma,samples,num_iter):\n",
    "    val = torch.zeros((N,N))\n",
    "    burn_in = num_iter//2\n",
    "    count = 0\n",
    "    for j in range(burn_in,num_iter):\n",
    "            val = val  + torch.outer(x[j*N],x[j*N].T)/(x[j*N][None,:] @ A @ x[j*N][:,None])\n",
    "            count += 1\n",
    "            if count == samples:\n",
    "                break\n",
    "    val = (val/samples)*N\n",
    "    dist = torch.linalg.norm(val - sigma)\n",
    "    return dist\n",
    "\n",
    "def jump_sigma_convergence(N,x,sigma,samples,num_iter):\n",
    "    new_sum = torch.zeros((N,N))\n",
    "    burn_in = num_iter//2\n",
    "    count = 0\n",
    "    for j in range(burn_in,num_iter):\n",
    "        new_sum = new_sum + torch.outer(x[j*N],x[j*N].T)/samples\n",
    "        count += 1\n",
    "        if count == samples:\n",
    "            break\n",
    "    dist = torch.linalg.norm(new_sum - sigma)\n",
    "    return dist"
   ]
  },
  {
   "cell_type": "code",
   "execution_count": 27,
   "metadata": {},
   "outputs": [
    {
     "name": "stderr",
     "output_type": "stream",
     "text": [
      "/home/lohith/chida/environments/basic/lib/python3.7/site-packages/ipykernel_launcher.py:9: UserWarning: The use of `x.T` on tensors of dimension other than 2 to reverse their shape is deprecated and it will throw an error in a future release. Consider `x.mT` to transpose batches of matricesor `x.permute(*torch.arange(x.ndim - 1, -1, -1))` to reverse the dimensions of a tensor. (Triggered internally at  ../aten/src/ATen/native/TensorShape.cpp:2318.)\n",
      "  if __name__ == \"__main__\":\n"
     ]
    },
    {
     "name": "stdout",
     "output_type": "stream",
     "text": [
      "Plane Gibbs sampling norm = 309.09326171875\n",
      "Gibbs sampling norm with 1225 samples = 236.1492919921875\n",
      "conjugate norm with 1225 samples = 326.6197204589844\n"
     ]
    }
   ],
   "source": [
    "num_iter = 10\n",
    "start = torch.zeros(dim)\n",
    "x = gibbs_sampler(dim ,num_iter,start)\n",
    "norm = sigma_convergence(dim , x, sigma, num_iter * dim, num_iter)\n",
    "print(f'Plane Gibbs sampling norm with {dim} samples = {norm}')\n",
    "\n",
    "jump_norm = jump_sigma_convergence(dim , x, sigma, num_iter, num_iter)\n",
    "print(f'Gibbs sampling norm with {dim} samples = {jump_norm}')\n",
    "\n",
    "conj_norm = conj_sigma_convergence(dim , x, stiffness, sigma, num_iter, num_iter)\n",
    "print(f'conjugate norm with {dim} samples = {conj_norm}')"
   ]
  },
  {
   "cell_type": "markdown",
   "metadata": {},
   "source": [
    "#### Generating plots comparing the three convergence methods of Gibbs Sampler"
   ]
  },
  {
   "cell_type": "markdown",
   "metadata": {},
   "source": []
  }
 ],
 "metadata": {
  "kernelspec": {
   "display_name": "Python 3.7.10 ('basic')",
   "language": "python",
   "name": "python3"
  },
  "language_info": {
   "codemirror_mode": {
    "name": "ipython",
    "version": 3
   },
   "file_extension": ".py",
   "mimetype": "text/x-python",
   "name": "python",
   "nbconvert_exporter": "python",
   "pygments_lexer": "ipython3",
   "version": "3.7.10"
  },
  "orig_nbformat": 4,
  "vscode": {
   "interpreter": {
    "hash": "cbb9b752b2e00d79181b10810213ec250859823ac34c680a70252b6b3a1c26f5"
   }
  }
 },
 "nbformat": 4,
 "nbformat_minor": 2
}
