{
  "nbformat": 4,
  "nbformat_minor": 0,
  "metadata": {
    "colab": {
      "name": "multivariate_gibbs_sampling.ipynb",
      "provenance": [],
      "collapsed_sections": []
    },
    "kernelspec": {
      "name": "python3",
      "display_name": "Python 3"
    },
    "language_info": {
      "name": "python"
    }
  },
  "cells": [
    {
      "cell_type": "code",
      "execution_count": null,
      "metadata": {
        "id": "RiUw8fDnHnnn"
      },
      "outputs": [],
      "source": [
        "import random\n",
        "import numpy as np\n",
        "from numpy.linalg import eig"
      ]
    },
    {
      "cell_type": "code",
      "source": [
        "N = 1000"
      ],
      "metadata": {
        "id": "OSiFX1a5Pnog"
      },
      "execution_count": null,
      "outputs": []
    },
    {
      "cell_type": "code",
      "source": [
        "arr = np.random.randn(N,N)"
      ],
      "metadata": {
        "id": "L56wawYeIRkq"
      },
      "execution_count": null,
      "outputs": []
    },
    {
      "cell_type": "code",
      "source": [
        "eig_val,eig_vec = eig((arr + arr.T)/2)"
      ],
      "metadata": {
        "id": "JrYQ6PWn8mQx"
      },
      "execution_count": null,
      "outputs": []
    },
    {
      "cell_type": "code",
      "source": [
        "eig_val"
      ],
      "metadata": {
        "id": "_s8iZ198HSuN"
      },
      "execution_count": null,
      "outputs": []
    },
    {
      "cell_type": "code",
      "source": [
        "eig_vec"
      ],
      "metadata": {
        "colab": {
          "base_uri": "https://localhost:8080/"
        },
        "id": "pPWPcW9SwyLQ",
        "outputId": "bb333f57-0c38-46d3-c2d7-acb29994a943"
      },
      "execution_count": null,
      "outputs": [
        {
          "output_type": "execute_result",
          "data": {
            "text/plain": [
              "array([[-0.00488141,  0.02244233, -0.01069324, ...,  0.00331009,\n",
              "         0.00624372,  0.00167242],\n",
              "       [-0.10063271, -0.05232952,  0.02641847, ..., -0.00474474,\n",
              "         0.02902054, -0.02764489],\n",
              "       [ 0.05125933,  0.0396581 , -0.02986975, ...,  0.01007926,\n",
              "         0.03241887,  0.01350811],\n",
              "       ...,\n",
              "       [ 0.00134349, -0.0027411 ,  0.00981263, ...,  0.02357582,\n",
              "         0.01432836, -0.01630122],\n",
              "       [-0.03042359, -0.01911403,  0.0363121 , ...,  0.00124184,\n",
              "        -0.00856221, -0.01958364],\n",
              "       [-0.01172441,  0.04571446, -0.01625894, ...,  0.03743554,\n",
              "        -0.00086575, -0.00024015]])"
            ]
          },
          "metadata": {},
          "execution_count": 32
        }
      ]
    },
    {
      "cell_type": "code",
      "source": [
        "eig_vec.shape"
      ],
      "metadata": {
        "colab": {
          "base_uri": "https://localhost:8080/"
        },
        "id": "TT2onVZd8twT",
        "outputId": "7c70b45d-c570-4b33-cf29-f0bc2bc2c277"
      },
      "execution_count": null,
      "outputs": [
        {
          "output_type": "execute_result",
          "data": {
            "text/plain": [
              "(1000, 1000)"
            ]
          },
          "metadata": {},
          "execution_count": 33
        }
      ]
    },
    {
      "cell_type": "code",
      "source": [
        "temp = eig_vec @ np.diag(abs(np.random.randn(N))) @ eig_vec.T"
      ],
      "metadata": {
        "id": "9vVJ2cp38vFI"
      },
      "execution_count": null,
      "outputs": []
    },
    {
      "cell_type": "code",
      "source": [
        "A = temp @ temp.T"
      ],
      "metadata": {
        "id": "ePRnsXhC8-F5"
      },
      "execution_count": null,
      "outputs": []
    },
    {
      "cell_type": "code",
      "source": [
        "A"
      ],
      "metadata": {
        "colab": {
          "base_uri": "https://localhost:8080/"
        },
        "id": "b3jL6auYvXCm",
        "outputId": "4e31d958-c829-4360-f113-be366815405b"
      },
      "execution_count": null,
      "outputs": [
        {
          "output_type": "execute_result",
          "data": {
            "text/plain": [
              "array([[ 1.01380697,  0.05981665,  0.06383368, ...,  0.0796321 ,\n",
              "        -0.05609313,  0.06722991],\n",
              "       [ 0.05981665,  1.0386612 ,  0.01332081, ...,  0.08223583,\n",
              "        -0.01120709, -0.01340456],\n",
              "       [ 0.06383368,  0.01332081,  1.07560533, ...,  0.10168627,\n",
              "        -0.00505666, -0.03805923],\n",
              "       ...,\n",
              "       [ 0.0796321 ,  0.08223583,  0.10168627, ...,  1.0379901 ,\n",
              "         0.06401327, -0.04838804],\n",
              "       [-0.05609313, -0.01120709, -0.00505666, ...,  0.06401327,\n",
              "         1.03481095, -0.01074535],\n",
              "       [ 0.06722991, -0.01340456, -0.03805923, ..., -0.04838804,\n",
              "        -0.01074535,  1.08606321]])"
            ]
          },
          "metadata": {},
          "execution_count": 36
        }
      ]
    },
    {
      "cell_type": "code",
      "source": [
        "A.shape"
      ],
      "metadata": {
        "colab": {
          "base_uri": "https://localhost:8080/"
        },
        "id": "_W--7ciD-BRW",
        "outputId": "195eba4e-2e19-4a84-d195-c2f7ee2b170c"
      },
      "execution_count": null,
      "outputs": [
        {
          "output_type": "execute_result",
          "data": {
            "text/plain": [
              "(1000, 1000)"
            ]
          },
          "metadata": {},
          "execution_count": 37
        }
      ]
    },
    {
      "cell_type": "code",
      "source": [
        "sigma = np.linalg.inv(A)"
      ],
      "metadata": {
        "id": "Od95nHbXFulk"
      },
      "execution_count": null,
      "outputs": []
    },
    {
      "cell_type": "code",
      "source": [
        "sigma"
      ],
      "metadata": {
        "colab": {
          "base_uri": "https://localhost:8080/"
        },
        "id": "KoN-h2PhFznm",
        "outputId": "b8a862a4-ee05-4935-fafb-30bc1347ce07"
      },
      "execution_count": null,
      "outputs": [
        {
          "output_type": "execute_result",
          "data": {
            "text/plain": [
              "array([[ 3587.37547903,  -353.92435334,  -450.48280743, ...,\n",
              "         1714.53203335,  1408.77767604,   805.33998386],\n",
              "       [ -353.92435332,  2263.01460768,  -324.40044022, ...,\n",
              "          879.28334398,  -164.76297523,  2205.47898664],\n",
              "       [ -450.48280743,  -324.40044022,  1034.57443305, ...,\n",
              "          136.72420216,  -755.8533021 , -1170.80886405],\n",
              "       ...,\n",
              "       [ 1714.53203336,   879.28334397,   136.72420215, ...,\n",
              "         2002.96064685,   244.6497213 ,  1098.10166392],\n",
              "       [ 1408.77767604,  -164.76297524,  -755.8533021 , ...,\n",
              "          244.64972129,  1556.04152005,  1541.28350407],\n",
              "       [  805.33998387,  2205.47898663, -1170.80886406, ...,\n",
              "         1098.10166392,  1541.28350408,  4640.86288463]])"
            ]
          },
          "metadata": {},
          "execution_count": 39
        }
      ]
    },
    {
      "cell_type": "code",
      "source": [
        "sigma.T"
      ],
      "metadata": {
        "colab": {
          "base_uri": "https://localhost:8080/"
        },
        "id": "O7u7gwEFF8mE",
        "outputId": "c32918cf-ae75-4a1b-f9b2-1838fa70fbb5"
      },
      "execution_count": null,
      "outputs": [
        {
          "output_type": "execute_result",
          "data": {
            "text/plain": [
              "array([[ 3587.37547903,  -353.92435332,  -450.48280743, ...,\n",
              "         1714.53203336,  1408.77767604,   805.33998387],\n",
              "       [ -353.92435334,  2263.01460768,  -324.40044022, ...,\n",
              "          879.28334397,  -164.76297524,  2205.47898663],\n",
              "       [ -450.48280743,  -324.40044022,  1034.57443305, ...,\n",
              "          136.72420215,  -755.8533021 , -1170.80886406],\n",
              "       ...,\n",
              "       [ 1714.53203335,   879.28334398,   136.72420216, ...,\n",
              "         2002.96064685,   244.64972129,  1098.10166392],\n",
              "       [ 1408.77767604,  -164.76297523,  -755.8533021 , ...,\n",
              "          244.6497213 ,  1556.04152005,  1541.28350408],\n",
              "       [  805.33998386,  2205.47898664, -1170.80886405, ...,\n",
              "         1098.10166392,  1541.28350407,  4640.86288463]])"
            ]
          },
          "metadata": {},
          "execution_count": 40
        }
      ]
    },
    {
      "cell_type": "code",
      "source": [
        "X0 = np.zeros(N)"
      ],
      "metadata": {
        "id": "54II6iXyxtmY"
      },
      "execution_count": null,
      "outputs": []
    },
    {
      "cell_type": "code",
      "source": [
        "X0[:5]"
      ],
      "metadata": {
        "colab": {
          "base_uri": "https://localhost:8080/"
        },
        "id": "gZoIk4jCp761",
        "outputId": "18f457a6-75c9-48f1-c616-288e7b472550"
      },
      "execution_count": null,
      "outputs": [
        {
          "output_type": "execute_result",
          "data": {
            "text/plain": [
              "array([0., 0., 0., 0., 0.])"
            ]
          },
          "metadata": {},
          "execution_count": 46
        }
      ]
    },
    {
      "cell_type": "code",
      "source": [
        "import math"
      ],
      "metadata": {
        "id": "MaxhaxLnMJN4"
      },
      "execution_count": null,
      "outputs": []
    },
    {
      "cell_type": "code",
      "source": [
        "def normal(mean,var):\n",
        "    return mean +  math.sqrt(var) * float(np.random.randn(1))"
      ],
      "metadata": {
        "id": "SAchT3mC_Uxv"
      },
      "execution_count": null,
      "outputs": []
    },
    {
      "cell_type": "code",
      "source": [
        "x = np.zeros((N,N))"
      ],
      "metadata": {
        "id": "LwaZFjBPu_WA"
      },
      "execution_count": null,
      "outputs": []
    },
    {
      "cell_type": "code",
      "source": [
        "for i in range(N):\n",
        "    temp = np.delete(X0,[i],None)\n",
        "    var = 1/A[i][i]\n",
        "    intermediate = (np.delete(A[i],[i],None)/(-A[i][i]))\n",
        "    mean = intermediate @ temp.T\n",
        "    X0[i] = normal(mean,var)\n",
        "    x[i] = X0"
      ],
      "metadata": {
        "id": "tTCBjHqtiGA9"
      },
      "execution_count": null,
      "outputs": []
    },
    {
      "cell_type": "code",
      "source": [
        "x"
      ],
      "metadata": {
        "colab": {
          "base_uri": "https://localhost:8080/"
        },
        "id": "4CKObP2jgo4h",
        "outputId": "9af2ae08-b65b-417f-bdc8-babb963d9762"
      },
      "execution_count": null,
      "outputs": [
        {
          "output_type": "execute_result",
          "data": {
            "text/plain": [
              "array([[ 1.54596136,  0.        ,  0.        , ...,  0.        ,\n",
              "         0.        ,  0.        ],\n",
              "       [ 1.54596136, -0.23473708,  0.        , ...,  0.        ,\n",
              "         0.        ,  0.        ],\n",
              "       [ 1.54596136, -0.23473708, -0.60060181, ...,  0.        ,\n",
              "         0.        ,  0.        ],\n",
              "       ...,\n",
              "       [ 1.54596136, -0.23473708, -0.60060181, ..., -1.57313057,\n",
              "         0.        ,  0.        ],\n",
              "       [ 1.54596136, -0.23473708, -0.60060181, ..., -1.57313057,\n",
              "         0.00941101,  0.        ],\n",
              "       [ 1.54596136, -0.23473708, -0.60060181, ..., -1.57313057,\n",
              "         0.00941101,  1.46734522]])"
            ]
          },
          "metadata": {},
          "execution_count": 51
        }
      ]
    },
    {
      "cell_type": "code",
      "source": [
        "sum = (np.outer(x[0],x[0].T))/N\n",
        "for i in range(1,N):\n",
        "    sum = sum  + (np.outer(x[i],x[i].T))/N"
      ],
      "metadata": {
        "id": "hO76LQmXxYV_"
      },
      "execution_count": null,
      "outputs": []
    },
    {
      "cell_type": "code",
      "source": [
        "sum"
      ],
      "metadata": {
        "colab": {
          "base_uri": "https://localhost:8080/"
        },
        "id": "pxM-lmPokE46",
        "outputId": "30908148-66c1-470f-dc2d-52ead3db21d0"
      },
      "execution_count": null,
      "outputs": [
        {
          "output_type": "execute_result",
          "data": {
            "text/plain": [
              "array([[ 2.38999652e+00, -3.62531555e-01, -9.26650182e-01, ...,\n",
              "        -7.29599720e-03,  2.90981091e-05,  2.26845901e-03],\n",
              "       [-3.62531555e-01,  5.50463937e-02,  1.40701547e-01, ...,\n",
              "         1.10781621e-03, -4.41822497e-06, -3.44440328e-04],\n",
              "       [-9.26650182e-01,  1.40701547e-01,  3.60001094e-01, ...,\n",
              "         2.83447521e-03, -1.13045368e-05, -8.81290202e-04],\n",
              "       ...,\n",
              "       [-7.29599720e-03,  1.10781621e-03,  2.83447521e-03, ...,\n",
              "         7.42421933e-03, -2.96094884e-05, -2.30832562e-03],\n",
              "       [ 2.90981091e-05, -4.41822497e-06, -1.13045368e-05, ...,\n",
              "        -2.96094884e-05,  1.77134140e-07,  1.38091975e-05],\n",
              "       [ 2.26845901e-03, -3.44440328e-04, -8.81290202e-04, ...,\n",
              "        -2.30832562e-03,  1.38091975e-05,  2.15310200e-03]])"
            ]
          },
          "metadata": {},
          "execution_count": 53
        }
      ]
    },
    {
      "cell_type": "code",
      "source": [
        "sigma"
      ],
      "metadata": {
        "colab": {
          "base_uri": "https://localhost:8080/"
        },
        "id": "UKGlmwdukIkL",
        "outputId": "37cd3494-85ea-44bc-d836-977763d78743"
      },
      "execution_count": null,
      "outputs": [
        {
          "output_type": "execute_result",
          "data": {
            "text/plain": [
              "array([[ 3587.37547903,  -353.92435334,  -450.48280743, ...,\n",
              "         1714.53203335,  1408.77767604,   805.33998386],\n",
              "       [ -353.92435332,  2263.01460768,  -324.40044022, ...,\n",
              "          879.28334398,  -164.76297523,  2205.47898664],\n",
              "       [ -450.48280743,  -324.40044022,  1034.57443305, ...,\n",
              "          136.72420216,  -755.8533021 , -1170.80886405],\n",
              "       ...,\n",
              "       [ 1714.53203336,   879.28334397,   136.72420215, ...,\n",
              "         2002.96064685,   244.6497213 ,  1098.10166392],\n",
              "       [ 1408.77767604,  -164.76297524,  -755.8533021 , ...,\n",
              "          244.64972129,  1556.04152005,  1541.28350407],\n",
              "       [  805.33998387,  2205.47898663, -1170.80886406, ...,\n",
              "         1098.10166392,  1541.28350408,  4640.86288463]])"
            ]
          },
          "metadata": {},
          "execution_count": 54
        }
      ]
    },
    {
      "cell_type": "code",
      "source": [
        "dist = np.linalg.norm(sum-sigma)"
      ],
      "metadata": {
        "id": "Z_HFlTffkMtt"
      },
      "execution_count": null,
      "outputs": []
    },
    {
      "cell_type": "code",
      "source": [
        "dist"
      ],
      "metadata": {
        "colab": {
          "base_uri": "https://localhost:8080/"
        },
        "id": "HiZ1pZomkutf",
        "outputId": "c41377bb-743c-44e6-bf52-420a25d891d4"
      },
      "execution_count": null,
      "outputs": [
        {
          "output_type": "execute_result",
          "data": {
            "text/plain": [
              "1302469.976640898"
            ]
          },
          "metadata": {},
          "execution_count": 56
        }
      ]
    }
  ]
}